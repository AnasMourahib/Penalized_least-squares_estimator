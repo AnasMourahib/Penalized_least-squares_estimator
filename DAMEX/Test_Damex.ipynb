{
 "cells": [
  {
   "cell_type": "code",
   "execution_count": 20,
   "metadata": {},
   "outputs": [],
   "source": [
    "# Import some files and libraries \n",
    "import sys\n",
    "sys.path.insert(1, 'C:/Users/mourahib/Documents/DAMEX')\n",
    "\n",
    "import Functions\n",
    "import extreme_data \n",
    "import pandas as pd\n",
    "import numpy as np\n",
    "import sys\n",
    "from extreme_data import rank_transformation\n",
    "from Functions import damex"
   ]
  },
  {
   "cell_type": "markdown",
   "metadata": {},
   "source": [
    "In R, we generate a sample of size $N=10^{5}$ from a mixture logistic model and a mixture Hüsler-Reiss model with matrix \n",
    "$$\n",
    "\\begin{aligned}\n",
    "A=\n",
    "\\begin{pmatrix}\n",
    "1/3&  0 & 1/3& 1/3\\\\\n",
    "0 & 1/2 & 1/2 & 0\\\\\n",
    "3/4 & 0 & 0& 1/4\\\\\n",
    "1/2 & 1/2 & 0 & 0\n",
    "\\end{pmatrix}.\n",
    "\\end{aligned}\n",
    "$$\n",
    "and dependence coefficient $\\alpha=0.25$ and $\\lambda=0.25$, respectively. Simulations are saved in the pandas data \"df_mix_log\" and \"df_mix_hr\"."
   ]
  },
  {
   "cell_type": "code",
   "execution_count": 21,
   "metadata": {},
   "outputs": [],
   "source": [
    "df_mix_log = pd.read_csv(\"C:/Users/mourahib/Documents/DAMEX/mix_log_simu.csv\")\n",
    "df_mix_hr  = pd.read_csv(\"C:/Users/mourahib/Documents/DAMEX/mix_hr_simu.csv\")"
   ]
  },
  {
   "cell_type": "markdown",
   "metadata": {},
   "source": [
    "We explore our data "
   ]
  },
  {
   "cell_type": "code",
   "execution_count": 22,
   "metadata": {},
   "outputs": [
    {
     "name": "stdout",
     "output_type": "stream",
     "text": [
      "X1    0.770063\n",
      "X2    0.461952\n",
      "X3    1.322830\n",
      "X4    0.680359\n",
      "Name: 0, dtype: float64\n",
      "X1    2.286913\n",
      "X2    5.681325\n",
      "X3    1.670018\n",
      "X4    0.790466\n",
      "Name: 0, dtype: float64\n"
     ]
    },
    {
     "data": {
      "text/plain": [
       "(100000, 4)"
      ]
     },
     "execution_count": 22,
     "metadata": {},
     "output_type": "execute_result"
    }
   ],
   "source": [
    "print(df_mix_log.iloc[0])\n",
    "df_mix_log.shape\n",
    "\n",
    "print(df_mix_hr.iloc[0])\n",
    "df_mix_hr.shape"
   ]
  },
  {
   "cell_type": "code",
   "execution_count": 23,
   "metadata": {},
   "outputs": [
    {
     "name": "stdout",
     "output_type": "stream",
     "text": [
      "With threshold 0.01 the extreme directions resulting from the mixture logistic simulation are [[1, 3, 4], [2, 4], [1, 2], [1, 3], [3, 4], [1, 2, 3, 4]]\n",
      "With threshold 0.01 the extreme directions resulting from the mixture Hüsler-Reiss simulation  are [[1, 3, 4], [2, 4], [1, 2], [1, 3], [3, 4], [1, 2, 4], [1, 2, 3, 4]]\n"
     ]
    }
   ],
   "source": [
    "# Rank transformation, for each margin (column) V_i = n/(rank(X_i) + 1)\n",
    "x_rank_0_mix_log = rank_transformation(df_mix_log)\n",
    "x_rank_0_mix_hr = rank_transformation(df_mix_hr)\n",
    "#x_rank_0 is a numpy array where each value is itself an array\n",
    "# kth extremer points for the sum-norm\n",
    "k_0 = int(2e3)\n",
    "ind_extr_0_mix_log = np.argsort(np.sum(x_rank_0_mix_log, axis=1))[::-1][:k_0]\n",
    "ind_extr_0_mix_hr = np.argsort(np.sum(x_rank_0_mix_hr, axis=1))[::-1][:k_0]\n",
    "x_extr_0_mix_log = x_rank_0_mix_log[ind_extr_0_mix_log]\n",
    "x_extr_0_mix_hr = x_rank_0_mix_hr[ind_extr_0_mix_hr]\n",
    "R_mix_log=np.min(np.max(x_extr_0_mix_log , axis=1 ) )-1\n",
    "R_mix_hr=np.min(np.max(x_extr_0_mix_hr , axis=1 ) )-1\n",
    "eps_dmx = 0.5\n",
    "mu_min = 0.01\n",
    "alphas_0_mix_log, mass_mix_log = damex(x_extr_0_mix_log, R_mix_log, eps_dmx, mu_min=mu_min)\n",
    "alphas_0_mix_hr, mass_mix_hr = damex(x_extr_0_mix_hr, R_mix_hr, eps_dmx, mu_min=mu_min)\n",
    "print(\"With threshold\", mu_min, \"the extreme directions resulting from the mixture logistic simulation are\", alphas_0_mix_log)\n",
    "print(\"With threshold\", mu_min, \"the extreme directions resulting from the mixture Hüsler-Reiss simulation  are\", alphas_0_mix_hr)"
   ]
  }
 ],
 "metadata": {
  "kernelspec": {
   "display_name": "Python 3",
   "language": "python",
   "name": "python3"
  },
  "language_info": {
   "codemirror_mode": {
    "name": "ipython",
    "version": 3
   },
   "file_extension": ".py",
   "mimetype": "text/x-python",
   "name": "python",
   "nbconvert_exporter": "python",
   "pygments_lexer": "ipython3",
   "version": "3.11.9"
  }
 },
 "nbformat": 4,
 "nbformat_minor": 2
}
